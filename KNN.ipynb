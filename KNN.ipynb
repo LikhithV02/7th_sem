{
 "cells": [
  {
   "cell_type": "code",
   "execution_count": 2,
   "id": "eb5fa8d4-4e3a-493c-9349-61d7fd6aed44",
   "metadata": {},
   "outputs": [],
   "source": [
    "import numpy as np\n",
    "from sklearn import datasets\n",
    "from sklearn.model_selection import train_test_split\n",
    "from collections import Counter"
   ]
  },
  {
   "cell_type": "code",
   "execution_count": 3,
   "id": "9662e658-59f4-459f-b78f-fa3ca7f91abd",
   "metadata": {},
   "outputs": [],
   "source": [
    "iris = datasets.load_iris()\n",
    "X = iris.data\n",
    "y = iris.target"
   ]
  },
  {
   "cell_type": "code",
   "execution_count": 4,
   "id": "95b0e94f-9a61-46ee-96e9-ea206e2f8e8a",
   "metadata": {},
   "outputs": [],
   "source": [
    "X_train, X_test, y_train, y_test = train_test_split(X, y, test_size=0.3, random_state=48)"
   ]
  },
  {
   "cell_type": "code",
   "execution_count": 21,
   "id": "929a94cf-992b-4778-b0cc-dc4440780b5a",
   "metadata": {},
   "outputs": [],
   "source": [
    "def euclidean_dist(x1, x2):\n",
    "    return np.sqrt(np.sum((x1-x2) **2))"
   ]
  },
  {
   "cell_type": "code",
   "execution_count": 22,
   "id": "4b25f036-fd96-4e22-897b-7115084224a8",
   "metadata": {},
   "outputs": [],
   "source": [
    "class KNN:\n",
    "    def __init__(self, k=3):\n",
    "        self.k = k\n",
    "        \n",
    "    def fit(self, X, y):\n",
    "        self.X_train = X\n",
    "        self.y_train = y\n",
    "        \n",
    "    def predict(self, X):\n",
    "        y_pred = [self._predict(x) for x in X]\n",
    "        return np.array(y_pred)\n",
    "    \n",
    "    def _predict(self, x):\n",
    "        dist = [euclidean_dist(x, x_train) for x_train in self.X_train]\n",
    "        k_indices = np.argsort(dist)[:self.k]\n",
    "        k_near_labels = [self.y_train[i] for i in k_indices]\n",
    "        most_common = Counter(k_near_labels).most_common(1)\n",
    "        return most_common[0][0]"
   ]
  },
  {
   "cell_type": "code",
   "execution_count": 23,
   "id": "cc313b2e-1940-45dd-822b-ed12173e8486",
   "metadata": {},
   "outputs": [
    {
     "name": "stdout",
     "output_type": "stream",
     "text": [
      "Correct Predictions: 43/ 45\n",
      "Predicted: versicolor, Actual: virginica\n",
      "Predicted: virginica, Actual: versicolor\n"
     ]
    }
   ],
   "source": [
    "model = KNN(k=5)\n",
    "model.fit(X_train, y_train)\n",
    "preds = model.predict(X_test)\n",
    "\n",
    "crt_pred = sum(preds == y_test)\n",
    "print(f\"Correct Predictions: {crt_pred}/ {len(y_test)}\")\n",
    "\n",
    "wrg_indices = np.where(preds != y_test)[0]\n",
    "for i in wrg_indices:\n",
    "    print(f\"Predicted: {iris.target_names[preds[i]]}, Actual: {iris.target_names[y_test[i]]}\")"
   ]
  },
  {
   "cell_type": "code",
   "execution_count": null,
   "id": "f5dc2309-069e-469f-b26d-de620653aa8d",
   "metadata": {},
   "outputs": [],
   "source": []
  }
 ],
 "metadata": {
  "kernelspec": {
   "display_name": "Python 3 (ipykernel)",
   "language": "python",
   "name": "python3"
  },
  "language_info": {
   "codemirror_mode": {
    "name": "ipython",
    "version": 3
   },
   "file_extension": ".py",
   "mimetype": "text/x-python",
   "name": "python",
   "nbconvert_exporter": "python",
   "pygments_lexer": "ipython3",
   "version": "3.10.9"
  }
 },
 "nbformat": 4,
 "nbformat_minor": 5
}
